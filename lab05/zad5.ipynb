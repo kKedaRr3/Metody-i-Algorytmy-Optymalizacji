{
 "cells": [
  {
   "cell_type": "markdown",
   "metadata": {},
   "source": [
    "# Zadanie 5: programowanie genetyczne i regresja symboliczna\n",
    "\n",
    "Termin realizacji: 12 maja 2025\n",
    "\n",
    "Zadanie do oddania przez MS Teams. Do oddania: kod oraz krótkie sprawozdanie w PDF (można na przykład przy użyciu `quarto render notebook.ipynb --to pdf`).\n",
    "\n",
    "## Na 3.0\n",
    "\n",
    "Do realizacji:\n",
    "\n",
    "1. Zmodyfikuj przykład `pysr_demo.ipynb` tak, aby uczył się funkcji $f(x) = 2.2\\sin(x_0 + 2 x_1) - x_5^2 - 3$ której dziedziną jest $\\mathbb{R}^6$. Uczenie ma się odbywać w oparciu o 200 wylosowanych z dziedziny próbek (między -5 a 5).\n",
    "2. Zanotuj wzory trzech rozwiązań o najwyższej wartości `score` oraz rozwiązanie `best` dla następujących zestawów ustawień:\n",
    "   1. `binary_operators=[\"+\", \"*\"], unary_operators=[\"cos\", \"exp\", \"sin\"], maxsize=20`,\n",
    "   2. `binary_operators=[\"+\", \"*\", \"-\", \"^\"], unary_operators=[\"cos\", \"exp\", \"sin\", \"log\"], maxsize=30`, (dodaj ograniczenie dla argumentów operatora \"^\").\n",
    "   3. `binary_operators=[\"+\", \"*\", \"-\", \"^\"], unary_operators=[\"exp\", \"sin\"], maxsize=15`.\n",
    "3. Powtórz eksperymenty z zadania na 3.0 po dodaniu szumu do próbek z funkcji $f$ (rozkład normalny o średniej 0 i odchyleniu standardowym 0.5)\n",
    "\n",
    "## Na 4.0\n",
    "\n",
    "Do realizacji:\n",
    "\n",
    "1. Punkty z zadania na 3.0.\n",
    "2. Dodaj do porównania dopasowanie oparte o próbki losowane w szerszym zakresie (między -15 a 15) oraz wyższy poziom szumu (odchylenie standardowe równe 2 oraz 5).\n",
    "\n",
    "## Na 5.0\n",
    "\n",
    "Do realizacji:\n",
    "\n",
    "1. Punkty z zadania na 4.0.\n",
    "2. Zamień funkcję $f$ na $f(x) = 2.2\\sin(x_0 + 2x_1) - x_5^2 - p(\\lfloor x_0 \\rfloor)$ gdzie $p(i)$ oznacza $i$-tą liczbę pierwszą. Uwzględnij `p` jako dodatkowy operator unarny analogicznie do przykładu \"Julia packages and types\" z notatnika `pysr_demo.ipynb`. Powtórz eksperymenty opisane w zadaniach na 3.0 i 4.0.\n"
   ]
  },
  {
   "cell_type": "markdown",
   "metadata": {},
   "source": []
  },
  {
   "cell_type": "markdown",
   "metadata": {},
   "source": [
    "Trzy najlepsze wzory dla pierwszego :\n"
   ]
  },
  {
   "cell_type": "markdown",
   "metadata": {},
   "source": []
  }
 ],
 "metadata": {
  "kernelspec": {
   "display_name": "Julia 1.10.1",
   "language": "julia",
   "name": "julia-1.10"
  },
  "language_info": {
   "file_extension": ".jl",
   "mimetype": "application/julia",
   "name": "julia",
   "version": "1.10.1"
  }
 },
 "nbformat": 4,
 "nbformat_minor": 2
}
