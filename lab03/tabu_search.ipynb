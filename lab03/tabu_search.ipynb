{
 "cells": [
  {
   "cell_type": "code",
   "execution_count": 1,
   "metadata": {},
   "outputs": [
    {
     "data": {
      "text/plain": [
       "possible_moves (generic function with 1 method)"
      ]
     },
     "metadata": {},
     "output_type": "display_data"
    }
   ],
   "source": [
    "using DataStructures\n",
    "using Distributions\n",
    "\n",
    "mutable struct TabuState{TMove,P,TF}\n",
    "    tabu_buffer::CircularBuffer{TMove}\n",
    "    best_seen::P\n",
    "    best_seen_obj::TF\n",
    "    current::P\n",
    "    considered::P\n",
    "    iter::Int\n",
    "end\n",
    "\n",
    "function TabuState(p, x0; buffer_length::Int=10)\n",
    "    moves = possible_moves(p, x0)\n",
    "    obj = objective(p, x0)\n",
    "    return TabuState{eltype(moves),typeof(x0),typeof(obj)}(\n",
    "        CircularBuffer{eltype(moves)}(buffer_length), x0, obj, copy(x0), copy(x0), 1\n",
    "    )\n",
    "end\n",
    "\n",
    "\n",
    "function solve_tabu(p, s::TabuState; iteration_limit::Int=100)\n",
    "    while s.iter < iteration_limit\n",
    "        moves = possible_moves(p, s.current)\n",
    "        best_move = 0\n",
    "        best_move_obj = Inf\n",
    "        for (i_move, move) in enumerate(moves)\n",
    "            if in(move, s.tabu_buffer)\n",
    "                # move forbidden, do not consider\n",
    "                continue\n",
    "            end\n",
    "            # evaluate move\n",
    "            copyto!(s.considered, s.current)\n",
    "            apply!(s.considered, move)\n",
    "            considered_value = objective(p, s.considered)\n",
    "            if considered_value < best_move_obj\n",
    "                best_move = i_move\n",
    "                best_move_obj = considered_value\n",
    "            end\n",
    "        end\n",
    "        # no allowed move found\n",
    "        if best_move == 0\n",
    "            break\n",
    "        end\n",
    "        apply!(s.current, moves[best_move])\n",
    "        push!(s.tabu_buffer, invert_move(p, moves[best_move]))\n",
    "        if best_move_obj < s.best_seen_obj\n",
    "            # best so far, let's remember it\n",
    "            copyto!(s.best_seen, s.current)\n",
    "            s.best_seen_obj = best_move_obj\n",
    "        end\n",
    "        s.iter += 1\n",
    "    end\n",
    "    return s.best_seen\n",
    "end\n",
    "\n",
    "\n",
    "struct KnapsackProblem\n",
    "    capacity::Int\n",
    "    weights::Vector{Int}\n",
    "    profits::Vector{Int}\n",
    "end\n",
    "\n",
    "function objective(p::KnapsackProblem, x)\n",
    "    return -sum(p.profits .* x)\n",
    "end\n",
    "\n",
    "\n",
    "function apply!(x, move::Tuple{Symbol,Int})\n",
    "    if move[1] === :add\n",
    "        x[move[2]] = true\n",
    "    else\n",
    "        x[move[2]] = false\n",
    "    end\n",
    "    return x\n",
    "end\n",
    "\n",
    "function invert_move(::KnapsackProblem, move::Tuple{Symbol,Int})\n",
    "    if move[1] === :add\n",
    "        return (:remove, move[2])\n",
    "    else\n",
    "        return (:add, move[2])\n",
    "    end\n",
    "end\n",
    "\n",
    "\n",
    "function possible_moves(p::KnapsackProblem, x::Vector{Bool})\n",
    "    move_list = Tuple{Symbol,Int}[]\n",
    "    current_weight = sum(p.weights .* x)\n",
    "    # add item\n",
    "    for i in eachindex(x, p.weights)\n",
    "        if !x[i] && current_weight + p.weights[i] <= p.capacity\n",
    "            push!(move_list, (:add, i))\n",
    "        end\n",
    "    end\n",
    "    # remove item\n",
    "    for i in eachindex(x, p.weights)\n",
    "        if x[i]\n",
    "            push!(move_list, (:remove, i))\n",
    "        end\n",
    "    end\n",
    "    return move_list\n",
    "end\n",
    "\n"
   ]
  },
  {
   "cell_type": "code",
   "execution_count": 10,
   "metadata": {},
   "outputs": [
    {
     "data": {
      "text/plain": [
       "KnapsackProblem(3000, [433, 122, 602, 499, 507, 250, 300, 531, 882, 498  …  695, 855, 445, 525, 57, 826, 587, 102, 590, 762], [70, 21, 56, 95, 92, 16, 23, 50, 92, 34  …  52, 40, 16, 82, 99, 70, 94, 62, 26, 10])"
      ]
     },
     "metadata": {},
     "output_type": "display_data"
    }
   ],
   "source": [
    "\n",
    "function generate_problem()\n",
    "    n_items = 100\n",
    "    profits = rand(DiscreteUniform(10, 1000), n_items)\n",
    "    weights = rand(DiscreteUniform(10, 100), n_items)\n",
    "    kp = KnapsackProblem(3000, profits, weights)\n",
    "end\n",
    "\n",
    "kp1 = generate_problem()\n"
   ]
  },
  {
   "cell_type": "code",
   "execution_count": 18,
   "metadata": {},
   "outputs": [
    {
     "name": "stdout",
     "output_type": "stream",
     "text": [
      "[22, 31, 32, 45, 48, 54, 56, 57, 60, 64, 69, 70, 78, 79, 81, 95, 98]\n",
      "Best objective: -1431\n",
      "Last iteration: 1000000\n"
     ]
    }
   ],
   "source": [
    "\n",
    "function test(kp)\n",
    "    x0 = fill(false, length(kp.weights))\n",
    "    st = TabuState(kp, x0; buffer_length=10)\n",
    "    sol = solve_tabu(kp, st; iteration_limit=1000000)\n",
    "    println(findall(sol))\n",
    "    println(\"Best objective: \", st.best_seen_obj)\n",
    "    println(\"Last iteration: \", st.iter)\n",
    "end\n",
    "\n",
    "test(kp1)"
   ]
  },
  {
   "cell_type": "code",
   "execution_count": null,
   "metadata": {},
   "outputs": [],
   "source": []
  },
  {
   "cell_type": "code",
   "execution_count": null,
   "metadata": {},
   "outputs": [],
   "source": []
  }
 ],
 "metadata": {
  "kernelspec": {
   "display_name": "Julia 1.10.1",
   "language": "julia",
   "name": "julia-1.10"
  },
  "language_info": {
   "file_extension": ".jl",
   "mimetype": "application/julia",
   "name": "julia",
   "version": "1.10.1"
  }
 },
 "nbformat": 4,
 "nbformat_minor": 2
}
