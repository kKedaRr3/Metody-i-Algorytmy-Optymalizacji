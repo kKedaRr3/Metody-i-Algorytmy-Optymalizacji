{
 "cells": [
  {
   "cell_type": "markdown",
   "metadata": {},
   "source": [
    "# Optymalizacja dyskretna: Minizinc\n",
    "\n",
    "Rozwiąż problem plecakowy (pliki `knapsack2.mzn` i `knapsack2.dzn`) z użyciem programu [Minizinc](https://www.minizinc.org/).\n",
    "Wygeneruj nowe problemy (pliki `.dzn`) z rosnącą liczbą przedmiotów (w zakresie do około 50-10000), na przykład za pomocą poniższego kodu. Zanotuj czas rozwiązania i ile elementów było wybranych do plecaka. Porównaj wyniki dla różnych solverów (np. Gecode, COIN-BC). Możesz przerwać działanie solvera jeśli trwa dłużej niż 10 sekund.\n",
    "\n"
   ]
  },
  {
   "cell_type": "code",
   "execution_count": null,
   "metadata": {},
   "outputs": [],
   "source": [
    "using Distributions\n",
    "\n",
    "function make_dzn(n::Int, capacity::Int)\n",
    "    profits = rand(DiscreteUniform(10, 1000), n)\n",
    "    weights = rand(DiscreteUniform(10, 100), n)\n",
    "    content = \"\"\"\n",
    "    ITEM = _(1..$n);\n",
    "    capacity = $capacity;\n",
    "    profits = $profits;\n",
    "    weights = $weights;\n",
    "    \"\"\"\n",
    "    file = open(\"knapsack_generated_2.dzn\", \"w+\")\n",
    "    write(file, content)\n",
    "    close(file)\n",
    "end\n",
    "make_dzn(20, 200)"
   ]
  },
  {
   "cell_type": "markdown",
   "metadata": {},
   "source": [
    "Zmodyfikuj problem tak, aby przedmioty były ładowane do dwóch plecaków o różnych pojemnościach. Weż pod uwagę, że każdy przedmiot może znaleźć się tylko w jednym plecaku."
   ]
  },
  {
   "cell_type": "markdown",
   "metadata": {},
   "source": [
    "Zmodyfikuj plik `jobshop.mzn` z [problemem harmonogramowania](https://en.wikipedia.org/wiki/Job-shop_scheduling) tak, aby można było zadeklarować minimalną przerwę pomiędzy pracami (job) wykonywanymi na jednej maszynie (trzeba zmodyfikować `constraint %% ensure no overlap of tasks`)"
   ]
  },
  {
   "cell_type": "markdown",
   "metadata": {},
   "source": []
  },
  {
   "cell_type": "code",
   "execution_count": null,
   "metadata": {},
   "outputs": [],
   "source": []
  }
 ],
 "metadata": {
  "kernelspec": {
   "display_name": "Julia 1.11.3",
   "language": "julia",
   "name": "julia-1.11"
  },
  "language_info": {
   "file_extension": ".jl",
   "mimetype": "application/julia",
   "name": "julia",
   "version": "1.11.3"
  }
 },
 "nbformat": 4,
 "nbformat_minor": 2
}
